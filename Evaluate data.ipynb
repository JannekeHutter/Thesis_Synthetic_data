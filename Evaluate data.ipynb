{
 "cells": [
  {
   "cell_type": "markdown",
   "id": "a69ad0dd",
   "metadata": {},
   "source": [
    "# Evaluate synthetic data\n",
    "Run this script in the thesis_venv environment."
   ]
  },
  {
   "cell_type": "code",
   "execution_count": 12,
   "id": "792be918",
   "metadata": {},
   "outputs": [
    {
     "data": {
      "text/plain": [
       "'C:\\\\Users\\\\jahutter\\\\Documents\\\\Programming\\\\Thesis code\\\\Evaluation'"
      ]
     },
     "execution_count": 12,
     "metadata": {},
     "output_type": "execute_result"
    }
   ],
   "source": [
    "import os\n",
    "os.getcwd()"
   ]
  },
  {
   "cell_type": "markdown",
   "id": "d12f2fba",
   "metadata": {},
   "source": [
    "#### Check we're running the script from thesis_venv (py 3.7):"
   ]
  },
  {
   "cell_type": "code",
   "execution_count": 13,
   "id": "12ed0ba6",
   "metadata": {},
   "outputs": [
    {
     "name": "stdout",
     "output_type": "stream",
     "text": [
      "3.7.11 (default, Jul 27 2021, 09:42:29) [MSC v.1916 64 bit (AMD64)]\n"
     ]
    }
   ],
   "source": [
    "import sys\n",
    "print(sys.version)"
   ]
  },
  {
   "cell_type": "code",
   "execution_count": 32,
   "id": "34660af0",
   "metadata": {
    "scrolled": true
   },
   "outputs": [
    {
     "name": "stdout",
     "output_type": "stream",
     "text": [
      "Numpy version should be 1.19.5: 1.19.5\n",
      "Pandas version should be 0.24.0: 1.3.5\n"
     ]
    }
   ],
   "source": [
    "import numpy as np\n",
    "print(\"Numpy version should be 1.19.5:\", np.__version__)\n",
    "import pandas as pd\n",
    "print(\"Pandas version should be 0.24.0:\", pd.__version__)\n",
    "import glob\n",
    "import sklearn\n",
    "from data_evaluation import univariate_metrics, association_diff, privacy_metrics, dim_wise_pred\n",
    "import json\n",
    "import dython # version should be 0.7.1.post2 #0.6.4.post1\n",
    "import seaborn as sns\n",
    "\n",
    "pd.set_option('display.max_columns', None) # to see all cols when viewing db"
   ]
  },
  {
   "cell_type": "markdown",
   "id": "7ed1a556",
   "metadata": {},
   "source": [
    "***Choose which dataset and model to evaluate:***"
   ]
  },
  {
   "cell_type": "code",
   "execution_count": 33,
   "id": "531fbf2c",
   "metadata": {},
   "outputs": [
    {
     "data": {
      "text/plain": [
       "['../Fake_Datasets/Census/final-AWS\\\\Census_fake_vaem_300epochs_1.csv',\n",
       " '../Fake_Datasets/Census/final-AWS\\\\Census_fake_vaem_300epochs_2.csv',\n",
       " '../Fake_Datasets/Census/final-AWS\\\\Census_fake_vaem_300epochs_3.csv']"
      ]
     },
     "execution_count": 33,
     "metadata": {},
     "output_type": "execute_result"
    }
   ],
   "source": [
    "dataset_name = \"Census\" # \"Adult\" #  \"Asia\" #  \"Sachs\" #      \n",
    "model_name =\"vaem\" # \"tvae\" # \"ctgan\" # \"ctab\" #                    \n",
    "\n",
    "if dataset_name in [\"Adult\", \"Census\", \"Bank\"]:\n",
    "    real_file_root = \"../Real_Datasets/\"\n",
    "else:\n",
    "    real_file_root = \"../BN_Datasets/\"\n",
    "real_path = real_file_root+ dataset_name+\"/\"+dataset_name\n",
    "with open(real_path+\"_meta.json\") as json_file:\n",
    "    meta = json.load(json_file)\n",
    "\n",
    "target = meta[\"target\"]\n",
    "categorical_cols = meta[\"categorical_cols\"]\n",
    "categorical_cols.append(target)\n",
    "binary_cols = meta[\"binary_cols\"]\n",
    "integer_cols = meta[\"numerical_cols\"]\n",
    "\n",
    "if model_name ==\"vaem\":\n",
    "    # to compare VAEMs synthetic dataset to real data, use processed dataset (has same normalization, scaling, etc)\n",
    "    real_path = real_path+\"_train_processed\"  \n",
    "    if dataset_name == \"Census\": \n",
    "        # for Census we deleted some categorical columns for training the VAEM\n",
    "        real = pd.read_csv(real_path+\".csv\")\n",
    "        cols = real.columns\n",
    "        categorical_cols = list(set(cols) - set(integer_cols))\n",
    "\n",
    "real_path = real_path + \".csv\"\n",
    "\n",
    "fake_file_root = \"../Fake_Datasets/\"\n",
    "num_epoch = 300\n",
    "exp_suffix=  \"_\"+str(num_epoch)+\"epochs\" #\"_10epochs\" # \"_30epochs\" #\"_1epochs\" #\n",
    "# Take fake dbs generated on AWS:\n",
    "fake_paths = glob.glob(fake_file_root+dataset_name+\"/final-AWS/\"+dataset_name+\"_fake_\"+model_name+exp_suffix+\"*.csv\")\n",
    "#fake_paths = glob.glob(fake_file_root+dataset_name+\"/\"+dataset_name+\"_fake_\"+model_name+exp_suffix+\"*.csv\")\n",
    "num_exp = len(fake_paths)\n",
    "# Double check we have 3 fake datasets (from 3 runs):\n",
    "fake_paths"
   ]
  },
  {
   "cell_type": "markdown",
   "id": "2072550e",
   "metadata": {},
   "source": [
    "## Evaluate univariate distribution\n",
    "\n",
    "Check how well the properties of the individual features (columns) are reproduced:"
   ]
  },
  {
   "cell_type": "code",
   "execution_count": 34,
   "id": "641d8f76",
   "metadata": {
    "scrolled": true
   },
   "outputs": [
    {
     "name": "stdout",
     "output_type": "stream",
     "text": [
      "Comparing real data to ../Fake_Datasets/Census/final-AWS\\Census_fake_vaem_300epochs_1.csv\n",
      "Comparing real data to ../Fake_Datasets/Census/final-AWS\\Census_fake_vaem_300epochs_2.csv\n",
      "Comparing real data to ../Fake_Datasets/Census/final-AWS\\Census_fake_vaem_300epochs_3.csv\n"
     ]
    },
    {
     "data": {
      "text/html": [
       "<div>\n",
       "<style scoped>\n",
       "    .dataframe tbody tr th:only-of-type {\n",
       "        vertical-align: middle;\n",
       "    }\n",
       "\n",
       "    .dataframe tbody tr th {\n",
       "        vertical-align: top;\n",
       "    }\n",
       "\n",
       "    .dataframe thead th {\n",
       "        text-align: right;\n",
       "    }\n",
       "</style>\n",
       "<table border=\"1\" class=\"dataframe\">\n",
       "  <thead>\n",
       "    <tr style=\"text-align: right;\">\n",
       "      <th></th>\n",
       "      <th>Column</th>\n",
       "      <th>Statistic</th>\n",
       "      <th>Mean value</th>\n",
       "    </tr>\n",
       "  </thead>\n",
       "  <tbody>\n",
       "    <tr>\n",
       "      <th>0</th>\n",
       "      <td>work_class</td>\n",
       "      <td>CS-test</td>\n",
       "      <td>0.629354</td>\n",
       "    </tr>\n",
       "    <tr>\n",
       "      <th>1</th>\n",
       "      <td>occupation</td>\n",
       "      <td>CS-test</td>\n",
       "      <td>1.000000</td>\n",
       "    </tr>\n",
       "    <tr>\n",
       "      <th>2</th>\n",
       "      <td>education</td>\n",
       "      <td>CS-test</td>\n",
       "      <td>0.999997</td>\n",
       "    </tr>\n",
       "    <tr>\n",
       "      <th>3</th>\n",
       "      <td>enroll_in_edu</td>\n",
       "      <td>CS-test</td>\n",
       "      <td>0.926714</td>\n",
       "    </tr>\n",
       "    <tr>\n",
       "      <th>4</th>\n",
       "      <td>marital_status</td>\n",
       "      <td>CS-test</td>\n",
       "      <td>0.997382</td>\n",
       "    </tr>\n",
       "    <tr>\n",
       "      <th>5</th>\n",
       "      <td>major_industry</td>\n",
       "      <td>CS-test</td>\n",
       "      <td>0.503190</td>\n",
       "    </tr>\n",
       "    <tr>\n",
       "      <th>6</th>\n",
       "      <td>major_occupation</td>\n",
       "      <td>CS-test</td>\n",
       "      <td>0.338405</td>\n",
       "    </tr>\n",
       "    <tr>\n",
       "      <th>7</th>\n",
       "      <td>race</td>\n",
       "      <td>CS-test</td>\n",
       "      <td>0.975324</td>\n",
       "    </tr>\n",
       "    <tr>\n",
       "      <th>8</th>\n",
       "      <td>hispanic_origin</td>\n",
       "      <td>CS-test</td>\n",
       "      <td>0.919399</td>\n",
       "    </tr>\n",
       "    <tr>\n",
       "      <th>9</th>\n",
       "      <td>gender</td>\n",
       "      <td>CS-test</td>\n",
       "      <td>0.948045</td>\n",
       "    </tr>\n",
       "    <tr>\n",
       "      <th>10</th>\n",
       "      <td>union_member</td>\n",
       "      <td>CS-test</td>\n",
       "      <td>0.871979</td>\n",
       "    </tr>\n",
       "    <tr>\n",
       "      <th>11</th>\n",
       "      <td>unemployment_reason</td>\n",
       "      <td>CS-test</td>\n",
       "      <td>0.715318</td>\n",
       "    </tr>\n",
       "    <tr>\n",
       "      <th>12</th>\n",
       "      <td>employment_status</td>\n",
       "      <td>CS-test</td>\n",
       "      <td>0.975124</td>\n",
       "    </tr>\n",
       "    <tr>\n",
       "      <th>13</th>\n",
       "      <td>tax_filer_status</td>\n",
       "      <td>CS-test</td>\n",
       "      <td>0.993410</td>\n",
       "    </tr>\n",
       "    <tr>\n",
       "      <th>14</th>\n",
       "      <td>household_summary</td>\n",
       "      <td>CS-test</td>\n",
       "      <td>0.411723</td>\n",
       "    </tr>\n",
       "    <tr>\n",
       "      <th>15</th>\n",
       "      <td>migr_same</td>\n",
       "      <td>CS-test</td>\n",
       "      <td>0.988239</td>\n",
       "    </tr>\n",
       "    <tr>\n",
       "      <th>16</th>\n",
       "      <td>migr_sun</td>\n",
       "      <td>CS-test</td>\n",
       "      <td>0.996478</td>\n",
       "    </tr>\n",
       "    <tr>\n",
       "      <th>17</th>\n",
       "      <td>fam_under_18</td>\n",
       "      <td>CS-test</td>\n",
       "      <td>0.969872</td>\n",
       "    </tr>\n",
       "    <tr>\n",
       "      <th>18</th>\n",
       "      <td>citizenship</td>\n",
       "      <td>CS-test</td>\n",
       "      <td>0.973515</td>\n",
       "    </tr>\n",
       "    <tr>\n",
       "      <th>19</th>\n",
       "      <td>own_business</td>\n",
       "      <td>CS-test</td>\n",
       "      <td>0.929341</td>\n",
       "    </tr>\n",
       "    <tr>\n",
       "      <th>20</th>\n",
       "      <td>year</td>\n",
       "      <td>CS-test</td>\n",
       "      <td>0.947591</td>\n",
       "    </tr>\n",
       "    <tr>\n",
       "      <th>21</th>\n",
       "      <td>tot_pers_income</td>\n",
       "      <td>CS-test</td>\n",
       "      <td>0.807256</td>\n",
       "    </tr>\n",
       "    <tr>\n",
       "      <th>22</th>\n",
       "      <td>age</td>\n",
       "      <td>KS-test</td>\n",
       "      <td>0.721008</td>\n",
       "    </tr>\n",
       "    <tr>\n",
       "      <th>23</th>\n",
       "      <td>wage</td>\n",
       "      <td>KS-test</td>\n",
       "      <td>0.056825</td>\n",
       "    </tr>\n",
       "    <tr>\n",
       "      <th>24</th>\n",
       "      <td>capital_gains</td>\n",
       "      <td>KS-test</td>\n",
       "      <td>0.036625</td>\n",
       "    </tr>\n",
       "    <tr>\n",
       "      <th>25</th>\n",
       "      <td>capital_loss</td>\n",
       "      <td>KS-test</td>\n",
       "      <td>0.019750</td>\n",
       "    </tr>\n",
       "    <tr>\n",
       "      <th>26</th>\n",
       "      <td>stock_dividends</td>\n",
       "      <td>KS-test</td>\n",
       "      <td>0.055083</td>\n",
       "    </tr>\n",
       "    <tr>\n",
       "      <th>27</th>\n",
       "      <td>n_pers_employer</td>\n",
       "      <td>KS-test</td>\n",
       "      <td>0.519425</td>\n",
       "    </tr>\n",
       "    <tr>\n",
       "      <th>28</th>\n",
       "      <td>weeks_work</td>\n",
       "      <td>KS-test</td>\n",
       "      <td>0.519425</td>\n",
       "    </tr>\n",
       "  </tbody>\n",
       "</table>\n",
       "</div>"
      ],
      "text/plain": [
       "                 Column Statistic  Mean value\n",
       "0            work_class   CS-test    0.629354\n",
       "1            occupation   CS-test    1.000000\n",
       "2             education   CS-test    0.999997\n",
       "3         enroll_in_edu   CS-test    0.926714\n",
       "4        marital_status   CS-test    0.997382\n",
       "5        major_industry   CS-test    0.503190\n",
       "6      major_occupation   CS-test    0.338405\n",
       "7                  race   CS-test    0.975324\n",
       "8       hispanic_origin   CS-test    0.919399\n",
       "9                gender   CS-test    0.948045\n",
       "10         union_member   CS-test    0.871979\n",
       "11  unemployment_reason   CS-test    0.715318\n",
       "12    employment_status   CS-test    0.975124\n",
       "13     tax_filer_status   CS-test    0.993410\n",
       "14    household_summary   CS-test    0.411723\n",
       "15            migr_same   CS-test    0.988239\n",
       "16             migr_sun   CS-test    0.996478\n",
       "17         fam_under_18   CS-test    0.969872\n",
       "18          citizenship   CS-test    0.973515\n",
       "19         own_business   CS-test    0.929341\n",
       "20                 year   CS-test    0.947591\n",
       "21      tot_pers_income   CS-test    0.807256\n",
       "22                  age   KS-test    0.721008\n",
       "23                 wage   KS-test    0.056825\n",
       "24        capital_gains   KS-test    0.036625\n",
       "25         capital_loss   KS-test    0.019750\n",
       "26      stock_dividends   KS-test    0.055083\n",
       "27      n_pers_employer   KS-test    0.519425\n",
       "28           weeks_work   KS-test    0.519425"
      ]
     },
     "execution_count": 34,
     "metadata": {},
     "output_type": "execute_result"
    }
   ],
   "source": [
    "# KS test for continuous (integer) cols, CS test for categorical cols\n",
    "univ_stat_tests, df_summary = univariate_metrics(real_path, fake_paths, categorical_cols)\n",
    "path = \"../Evaluation/Univ_stat_tests/univ_stat_tests_\"+dataset_name+\"_\"+model_name+exp_suffix+\".csv\"\n",
    "univ_stat_tests.to_csv(\"../Evaluation/Univ_stat_tests/univ_stat_tests_\"+dataset_name+\"_\"+model_name+exp_suffix+\".csv\", index=False)\n",
    "df_summary.to_csv(\"../Evaluation/Univ_stat_tests/univ_stat_tests_\"+dataset_name+\"_\"+model_name+exp_suffix+\"_means.csv\", index=False)\n",
    "univ_stat_tests"
   ]
  },
  {
   "cell_type": "code",
   "execution_count": 5,
   "id": "a7eb5425",
   "metadata": {},
   "outputs": [
    {
     "data": {
      "text/html": [
       "<div>\n",
       "<style scoped>\n",
       "    .dataframe tbody tr th:only-of-type {\n",
       "        vertical-align: middle;\n",
       "    }\n",
       "\n",
       "    .dataframe tbody tr th {\n",
       "        vertical-align: top;\n",
       "    }\n",
       "\n",
       "    .dataframe thead th {\n",
       "        text-align: right;\n",
       "    }\n",
       "</style>\n",
       "<table border=\"1\" class=\"dataframe\">\n",
       "  <thead>\n",
       "    <tr style=\"text-align: right;\">\n",
       "      <th></th>\n",
       "      <th>Statistic</th>\n",
       "      <th>Mean over all features</th>\n",
       "      <th>Standard deviation</th>\n",
       "    </tr>\n",
       "  </thead>\n",
       "  <tbody>\n",
       "    <tr>\n",
       "      <th>0</th>\n",
       "      <td>CS-test</td>\n",
       "      <td>0.967064</td>\n",
       "      <td>0.045889</td>\n",
       "    </tr>\n",
       "    <tr>\n",
       "      <th>1</th>\n",
       "      <td>KS-test</td>\n",
       "      <td>0.787469</td>\n",
       "      <td>0.089128</td>\n",
       "    </tr>\n",
       "  </tbody>\n",
       "</table>\n",
       "</div>"
      ],
      "text/plain": [
       "  Statistic  Mean over all features  Standard deviation\n",
       "0   CS-test                0.967064            0.045889\n",
       "1   KS-test                0.787469            0.089128"
      ]
     },
     "execution_count": 5,
     "metadata": {},
     "output_type": "execute_result"
    }
   ],
   "source": [
    "df_summary"
   ]
  },
  {
   "cell_type": "markdown",
   "id": "59e6130d",
   "metadata": {},
   "source": [
    "## Evaluate multivariate distribution\n",
    "How well are the feature interactions reproduced?"
   ]
  },
  {
   "cell_type": "markdown",
   "id": "f420beed",
   "metadata": {},
   "source": [
    "### Compute the difference between the association matrices and show in heatmap:"
   ]
  },
  {
   "cell_type": "markdown",
   "id": "e5b840e1",
   "metadata": {},
   "source": [
    "Values >0 indicate there are assocations between features in the real data which are not picked up by the generative model & reproduced in the fake data. Values <0 are perhaps even worse because it means the generative model added associations between features which were not present in the real data."
   ]
  },
  {
   "cell_type": "code",
   "execution_count": 23,
   "id": "325cf284",
   "metadata": {
    "scrolled": true
   },
   "outputs": [
    {
     "name": "stdout",
     "output_type": "stream",
     "text": [
      "Computing association matrix of ../Real_Datasets/Adult/Adult_train_processed.csv\n",
      "Computing association matrix of ../Fake_Datasets/Adult/final-AWS\\Adult_fake_vaem_300epochs_1.csv\n",
      "Computing association matrix of ../Fake_Datasets/Adult/final-AWS\\Adult_fake_vaem_300epochs_2.csv\n",
      "Computing association matrix of ../Fake_Datasets/Adult/final-AWS\\Adult_fake_vaem_300epochs_3.csv\n"
     ]
    },
    {
     "data": {
      "image/png": "[encoded data removed]",
      "text/plain": [
       "<Figure size 432x432 with 2 Axes>"
      ]
     },
     "metadata": {},
     "output_type": "display_data"
    },
    {
     "data": {
      "image/png": "[encoded data removed]",
      "text/plain": [
       "<Figure size 432x432 with 2 Axes>"
      ]
     },
     "metadata": {},
     "output_type": "display_data"
    },
    {
     "data": {
      "image/png": "[encoded data removed]",
      "text/plain": [
       "<Figure size 432x432 with 2 Axes>"
      ]
     },
     "metadata": {},
     "output_type": "display_data"
    }
   ],
   "source": [
    "fig1, fig2, fig3, real_corr, mean_fake_corr, diff_corr = association_diff(real_path, fake_paths, categorical_cols)\n",
    "real_corr.to_csv(\"../Evaluation/Association_matrix/assoc_mtx_\"+dataset_name+\"_\"+model_name+exp_suffix+\"_real.csv\")\n",
    "mean_fake_corr.to_csv(\"../Evaluation/Association_matrix/assoc_mtx_\"+dataset_name+\"_\"+model_name+exp_suffix+\"_fake.csv\")\n",
    "diff_corr.to_csv(\"../Evaluation/Association_matrix/assoc_mtx_\"+dataset_name+\"_\"+model_name+exp_suffix+\"_diff.csv\")\n",
    "fig1.figure.savefig(\"../Evaluation/Association_matrix/assoc_mtx_\"+dataset_name+\"_\"+model_name+exp_suffix+\"_real.png\")\n",
    "fig2.figure.savefig(\"../Evaluation/Association_matrix/assoc_mtx_\"+dataset_name+\"_\"+model_name+exp_suffix+\"_fake.png\")\n",
    "fig3.figure.savefig(\"../Evaluation/Association_matrix/assoc_mtx_\"+dataset_name+\"_\"+model_name+exp_suffix+\"_diff.png\")\n"
   ]
  },
  {
   "cell_type": "markdown",
   "id": "e22b90fc",
   "metadata": {},
   "source": [
    "### Dimension-wise prediction"
   ]
  },
  {
   "cell_type": "markdown",
   "id": "c86e9f52",
   "metadata": {},
   "source": [
    "For each feature in the target_cols list, train a classifier (or regressor if feature is numerical) to predict that feature using the remaining features. If the target is numerical, measure the R2 score, if it is categorical, measure the F1 score of the predictor performance. Do this for all fake datasets and then compute mean over these fake datasets."
   ]
  },
  {
   "cell_type": "code",
   "execution_count": 38,
   "id": "f14c52f1",
   "metadata": {
    "scrolled": true
   },
   "outputs": [
    {
     "name": "stdout",
     "output_type": "stream",
     "text": [
      "Datasets come from VAEM model so need to process before building classifiers\n",
      "Calling transform_df for train dataset\n",
      "Calling transform_df for test dataset\n",
      "WARNING: col workclass has 9 unique values in the training set, and only 8 unique values in the current set\n",
      "WARNING: col native-country has 42 unique values in the training set, and only 41 unique values in the current set\n",
      "Calling transform_df for fake dataset\n",
      "WARNING: col race has 5 unique values in the training set, and only 4 unique values in the current set\n",
      "WARNING: col native-country has 42 unique values in the training set, and only 39 unique values in the current set\n",
      "Calling transform_df for fake dataset\n",
      "WARNING: col workclass has 9 unique values in the training set, and only 8 unique values in the current set\n",
      "WARNING: col native-country has 42 unique values in the training set, and only 40 unique values in the current set\n",
      "Calling transform_df for fake dataset\n",
      "WARNING: col native-country has 42 unique values in the training set, and only 39 unique values in the current set\n",
      "TARGET FEATURE: workclass\n",
      "Training a classifier on Real data\n",
      "y_train set {0.0, 1.0, 2.0, 3.0, 4.0, 6.0, 7.0, 8.0, 9.0} does not match y_test set {0.0, 1.0, 2.0, 4.0, 6.0, 7.0, 8.0, 9.0} , prediction is  {0.0, 4.0}\n",
      "y_train set {0.0, 1.0, 2.0, 3.0, 4.0, 6.0, 7.0, 8.0, 9.0} does not match y_test set {0.0, 1.0, 2.0, 4.0, 6.0, 7.0, 8.0, 9.0} , prediction is  {4.0}\n",
      "y_train set {0.0, 1.0, 2.0, 3.0, 4.0, 6.0, 7.0, 8.0, 9.0} does not match y_test set {0.0, 1.0, 2.0, 4.0, 6.0, 7.0, 8.0, 9.0} , prediction is  {4.0}\n",
      "TARGET FEATURE: education\n",
      "Training a classifier on Real data\n",
      "TARGET FEATURE: marital-status\n",
      "Training a classifier on Real data\n",
      "TARGET FEATURE: occupation\n",
      "Training a classifier on Real data\n",
      "TARGET FEATURE: relationship\n",
      "Training a classifier on Real data\n",
      "TARGET FEATURE: race\n",
      "Training a classifier on Real data\n",
      "y_train set {0.0, 1.0, 2.0, 5.0} does not match y_test set {0.0, 1.0, 2.0, 4.0, 5.0} , prediction is  {5.0}\n",
      "TARGET FEATURE: gender\n",
      "Training a classifier on Real data\n",
      "TARGET FEATURE: native-country\n",
      "Training a classifier on Real data\n",
      "y_train set {0.0, 1.0, 2.0, 3.0, 4.0, 5.0, 6.0, 7.0, 8.0, 9.0, 10.0, 11.0, 12.0, 13.0, 14.0, 15.0, 16.0, 17.0, 18.0, 19.0, 20.0, 22.0, 23.0, 24.0, 25.0, 26.0, 27.0, 28.0, 29.0, 30.0, 31.0, 32.0, 33.0, 34.0, 35.0, 36.0, 37.0, 38.0, 39.0, 40.0, 41.0, 42.0} does not match y_test set {0.0, 1.0, 2.0, 3.0, 4.0, 5.0, 6.0, 7.0, 8.0, 9.0, 10.0, 11.0, 12.0, 13.0, 14.0, 16.0, 17.0, 18.0, 19.0, 20.0, 22.0, 23.0, 24.0, 25.0, 26.0, 27.0, 28.0, 29.0, 30.0, 31.0, 32.0, 33.0, 34.0, 35.0, 36.0, 37.0, 38.0, 39.0, 40.0, 41.0, 42.0} , prediction is  {40.0}\n",
      "y_train set {0.0, 1.0, 2.0, 3.0, 4.0, 5.0, 6.0, 7.0, 8.0, 9.0, 10.0, 11.0, 12.0, 13.0, 14.0, 15.0, 16.0, 17.0, 18.0, 19.0, 20.0, 22.0, 23.0, 24.0, 25.0, 26.0, 27.0, 28.0, 30.0, 31.0, 32.0, 33.0, 34.0, 36.0, 38.0, 39.0, 40.0, 41.0, 42.0} does not match y_test set {0.0, 1.0, 2.0, 3.0, 4.0, 5.0, 6.0, 7.0, 8.0, 9.0, 10.0, 11.0, 12.0, 13.0, 14.0, 16.0, 17.0, 18.0, 19.0, 20.0, 22.0, 23.0, 24.0, 25.0, 26.0, 27.0, 28.0, 29.0, 30.0, 31.0, 32.0, 33.0, 34.0, 35.0, 36.0, 37.0, 38.0, 39.0, 40.0, 41.0, 42.0} , prediction is  {40.0}\n",
      "y_train set {0.0, 1.0, 2.0, 3.0, 4.0, 5.0, 6.0, 7.0, 8.0, 9.0, 10.0, 11.0, 12.0, 13.0, 14.0, 15.0, 16.0, 17.0, 19.0, 20.0, 22.0, 23.0, 24.0, 25.0, 26.0, 27.0, 28.0, 29.0, 30.0, 31.0, 32.0, 33.0, 34.0, 36.0, 37.0, 38.0, 39.0, 40.0, 41.0, 42.0} does not match y_test set {0.0, 1.0, 2.0, 3.0, 4.0, 5.0, 6.0, 7.0, 8.0, 9.0, 10.0, 11.0, 12.0, 13.0, 14.0, 16.0, 17.0, 18.0, 19.0, 20.0, 22.0, 23.0, 24.0, 25.0, 26.0, 27.0, 28.0, 29.0, 30.0, 31.0, 32.0, 33.0, 34.0, 35.0, 36.0, 37.0, 38.0, 39.0, 40.0, 41.0, 42.0} , prediction is  {40.0, 7.0}\n",
      "y_train set {0.0, 1.0, 2.0, 3.0, 4.0, 5.0, 6.0, 7.0, 8.0, 9.0, 10.0, 11.0, 12.0, 13.0, 14.0, 15.0, 16.0, 17.0, 19.0, 20.0, 24.0, 25.0, 26.0, 27.0, 28.0, 29.0, 30.0, 31.0, 32.0, 33.0, 34.0, 35.0, 36.0, 37.0, 38.0, 39.0, 40.0, 41.0, 42.0} does not match y_test set {0.0, 1.0, 2.0, 3.0, 4.0, 5.0, 6.0, 7.0, 8.0, 9.0, 10.0, 11.0, 12.0, 13.0, 14.0, 16.0, 17.0, 18.0, 19.0, 20.0, 22.0, 23.0, 24.0, 25.0, 26.0, 27.0, 28.0, 29.0, 30.0, 31.0, 32.0, 33.0, 34.0, 35.0, 36.0, 37.0, 38.0, 39.0, 40.0, 41.0, 42.0} , prediction is  {40.0}\n",
      "TARGET FEATURE: income\n",
      "Training a classifier on Real data\n",
      "TARGET FEATURE: age\n",
      "Training a classifier on Real data\n",
      "TARGET FEATURE: fnlwgt\n",
      "Training a classifier on Real data\n",
      "TARGET FEATURE: capital-gain\n",
      "Training a classifier on Real data\n",
      "TARGET FEATURE: capital-loss\n",
      "Training a classifier on Real data\n",
      "TARGET FEATURE: hours-per-week\n",
      "Training a classifier on Real data\n"
     ]
    },
    {
     "data": {
      "text/html": [
       "<div>\n",
       "<style scoped>\n",
       "    .dataframe tbody tr th:only-of-type {\n",
       "        vertical-align: middle;\n",
       "    }\n",
       "\n",
       "    .dataframe tbody tr th {\n",
       "        vertical-align: top;\n",
       "    }\n",
       "\n",
       "    .dataframe thead th {\n",
       "        text-align: right;\n",
       "    }\n",
       "</style>\n",
       "<table border=\"1\" class=\"dataframe\">\n",
       "  <thead>\n",
       "    <tr style=\"text-align: right;\">\n",
       "      <th></th>\n",
       "      <th>Target feature</th>\n",
       "      <th>Real_score</th>\n",
       "      <th>Fake1_score</th>\n",
       "      <th>Fake2_score</th>\n",
       "      <th>Fake3_score</th>\n",
       "      <th>Comp. time</th>\n",
       "      <th>Mean_fake_score</th>\n",
       "    </tr>\n",
       "  </thead>\n",
       "  <tbody>\n",
       "    <tr>\n",
       "      <th>0</th>\n",
       "      <td>workclass</td>\n",
       "      <td>0.650749</td>\n",
       "      <td>0.571349</td>\n",
       "      <td>0.571349</td>\n",
       "      <td>0.571349</td>\n",
       "      <td>12.815868</td>\n",
       "      <td>0.571349</td>\n",
       "    </tr>\n",
       "    <tr>\n",
       "      <th>1</th>\n",
       "      <td>education</td>\n",
       "      <td>0.297898</td>\n",
       "      <td>0.169788</td>\n",
       "      <td>0.153745</td>\n",
       "      <td>0.207363</td>\n",
       "      <td>13.072947</td>\n",
       "      <td>0.176965</td>\n",
       "    </tr>\n",
       "    <tr>\n",
       "      <th>2</th>\n",
       "      <td>marital-status</td>\n",
       "      <td>0.773461</td>\n",
       "      <td>0.328442</td>\n",
       "      <td>0.306945</td>\n",
       "      <td>0.489741</td>\n",
       "      <td>11.921671</td>\n",
       "      <td>0.375043</td>\n",
       "    </tr>\n",
       "    <tr>\n",
       "      <th>3</th>\n",
       "      <td>occupation</td>\n",
       "      <td>0.249383</td>\n",
       "      <td>0.049427</td>\n",
       "      <td>0.095975</td>\n",
       "      <td>0.055552</td>\n",
       "      <td>13.108205</td>\n",
       "      <td>0.066985</td>\n",
       "    </tr>\n",
       "    <tr>\n",
       "      <th>4</th>\n",
       "      <td>relationship</td>\n",
       "      <td>0.698118</td>\n",
       "      <td>0.247695</td>\n",
       "      <td>0.237068</td>\n",
       "      <td>0.239468</td>\n",
       "      <td>11.672963</td>\n",
       "      <td>0.241410</td>\n",
       "    </tr>\n",
       "    <tr>\n",
       "      <th>5</th>\n",
       "      <td>race</td>\n",
       "      <td>0.782539</td>\n",
       "      <td>0.782291</td>\n",
       "      <td>0.782291</td>\n",
       "      <td>0.782291</td>\n",
       "      <td>10.389172</td>\n",
       "      <td>0.782291</td>\n",
       "    </tr>\n",
       "    <tr>\n",
       "      <th>6</th>\n",
       "      <td>gender</td>\n",
       "      <td>0.875105</td>\n",
       "      <td>0.799803</td>\n",
       "      <td>0.799828</td>\n",
       "      <td>0.799803</td>\n",
       "      <td>8.031836</td>\n",
       "      <td>0.799812</td>\n",
       "    </tr>\n",
       "    <tr>\n",
       "      <th>7</th>\n",
       "      <td>native-country</td>\n",
       "      <td>0.843599</td>\n",
       "      <td>0.843599</td>\n",
       "      <td>0.843497</td>\n",
       "      <td>0.843599</td>\n",
       "      <td>9.286137</td>\n",
       "      <td>0.843565</td>\n",
       "    </tr>\n",
       "    <tr>\n",
       "      <th>8</th>\n",
       "      <td>income</td>\n",
       "      <td>0.478551</td>\n",
       "      <td>0.000000</td>\n",
       "      <td>0.000000</td>\n",
       "      <td>0.000000</td>\n",
       "      <td>8.718940</td>\n",
       "      <td>0.000000</td>\n",
       "    </tr>\n",
       "    <tr>\n",
       "      <th>9</th>\n",
       "      <td>age</td>\n",
       "      <td>0.430503</td>\n",
       "      <td>-0.419408</td>\n",
       "      <td>-0.565919</td>\n",
       "      <td>-0.297393</td>\n",
       "      <td>21.677018</td>\n",
       "      <td>0.000000</td>\n",
       "    </tr>\n",
       "    <tr>\n",
       "      <th>10</th>\n",
       "      <td>fnlwgt</td>\n",
       "      <td>0.052686</td>\n",
       "      <td>-0.031158</td>\n",
       "      <td>-0.329473</td>\n",
       "      <td>-0.034338</td>\n",
       "      <td>22.659683</td>\n",
       "      <td>0.000000</td>\n",
       "    </tr>\n",
       "    <tr>\n",
       "      <th>11</th>\n",
       "      <td>capital-gain</td>\n",
       "      <td>0.087102</td>\n",
       "      <td>-34.910270</td>\n",
       "      <td>-17.288694</td>\n",
       "      <td>-0.125858</td>\n",
       "      <td>23.377396</td>\n",
       "      <td>0.000000</td>\n",
       "    </tr>\n",
       "    <tr>\n",
       "      <th>12</th>\n",
       "      <td>capital-loss</td>\n",
       "      <td>0.031671</td>\n",
       "      <td>-0.030313</td>\n",
       "      <td>-0.033273</td>\n",
       "      <td>-0.990732</td>\n",
       "      <td>21.507120</td>\n",
       "      <td>0.000000</td>\n",
       "    </tr>\n",
       "    <tr>\n",
       "      <th>13</th>\n",
       "      <td>hours-per-week</td>\n",
       "      <td>0.215870</td>\n",
       "      <td>-0.514325</td>\n",
       "      <td>-0.250934</td>\n",
       "      <td>-0.465824</td>\n",
       "      <td>18.035301</td>\n",
       "      <td>0.000000</td>\n",
       "    </tr>\n",
       "  </tbody>\n",
       "</table>\n",
       "</div>"
      ],
      "text/plain": [
       "    Target feature  Real_score  Fake1_score  Fake2_score  Fake3_score  \\\n",
       "0        workclass    0.650749     0.571349     0.571349     0.571349   \n",
       "1        education    0.297898     0.169788     0.153745     0.207363   \n",
       "2   marital-status    0.773461     0.328442     0.306945     0.489741   \n",
       "3       occupation    0.249383     0.049427     0.095975     0.055552   \n",
       "4     relationship    0.698118     0.247695     0.237068     0.239468   \n",
       "5             race    0.782539     0.782291     0.782291     0.782291   \n",
       "6           gender    0.875105     0.799803     0.799828     0.799803   \n",
       "7   native-country    0.843599     0.843599     0.843497     0.843599   \n",
       "8           income    0.478551     0.000000     0.000000     0.000000   \n",
       "9              age    0.430503    -0.419408    -0.565919    -0.297393   \n",
       "10          fnlwgt    0.052686    -0.031158    -0.329473    -0.034338   \n",
       "11    capital-gain    0.087102   -34.910270   -17.288694    -0.125858   \n",
       "12    capital-loss    0.031671    -0.030313    -0.033273    -0.990732   \n",
       "13  hours-per-week    0.215870    -0.514325    -0.250934    -0.465824   \n",
       "\n",
       "    Comp. time  Mean_fake_score  \n",
       "0    12.815868         0.571349  \n",
       "1    13.072947         0.176965  \n",
       "2    11.921671         0.375043  \n",
       "3    13.108205         0.066985  \n",
       "4    11.672963         0.241410  \n",
       "5    10.389172         0.782291  \n",
       "6     8.031836         0.799812  \n",
       "7     9.286137         0.843565  \n",
       "8     8.718940         0.000000  \n",
       "9    21.677018         0.000000  \n",
       "10   22.659683         0.000000  \n",
       "11   23.377396         0.000000  \n",
       "12   21.507120         0.000000  \n",
       "13   18.035301         0.000000  "
      ]
     },
     "execution_count": 38,
     "metadata": {},
     "output_type": "execute_result"
    }
   ],
   "source": [
    "# optionally add variable target_cols to function call so as to use a select number of features as target\n",
    "df = dim_wise_pred(real_path, fake_paths, categorical_cols, binary_cols, target, model_name)# target_cols=[]\n",
    "df.to_csv(\"../Evaluation/Dim_wise_pred/dwp_\"+dataset_name+\"_\"+model_name+exp_suffix+\".csv\", index=False)\n",
    "df"
   ]
  },
  {
   "cell_type": "code",
   "execution_count": 9,
   "id": "b68f0b57",
   "metadata": {},
   "outputs": [
    {
     "data": {
      "text/html": [
       "<div>\n",
       "<style scoped>\n",
       "    .dataframe tbody tr th:only-of-type {\n",
       "        vertical-align: middle;\n",
       "    }\n",
       "\n",
       "    .dataframe tbody tr th {\n",
       "        vertical-align: top;\n",
       "    }\n",
       "\n",
       "    .dataframe thead th {\n",
       "        text-align: right;\n",
       "    }\n",
       "</style>\n",
       "<table border=\"1\" class=\"dataframe\">\n",
       "  <thead>\n",
       "    <tr style=\"text-align: right;\">\n",
       "      <th></th>\n",
       "      <th>Target feature</th>\n",
       "      <th>Real_score</th>\n",
       "      <th>Fake1_score</th>\n",
       "      <th>Fake2_score</th>\n",
       "      <th>Fake3_score</th>\n",
       "      <th>Comp. time</th>\n",
       "      <th>Mean_fake_score</th>\n",
       "    </tr>\n",
       "  </thead>\n",
       "  <tbody>\n",
       "    <tr>\n",
       "      <th>0</th>\n",
       "      <td>asia</td>\n",
       "      <td>0.000000</td>\n",
       "      <td>0.000000</td>\n",
       "      <td>0.000000</td>\n",
       "      <td>0.000000</td>\n",
       "      <td>5.972298</td>\n",
       "      <td>0.000000</td>\n",
       "    </tr>\n",
       "    <tr>\n",
       "      <th>1</th>\n",
       "      <td>tub</td>\n",
       "      <td>0.913242</td>\n",
       "      <td>0.000000</td>\n",
       "      <td>0.016949</td>\n",
       "      <td>0.000000</td>\n",
       "      <td>4.403128</td>\n",
       "      <td>0.005650</td>\n",
       "    </tr>\n",
       "    <tr>\n",
       "      <th>2</th>\n",
       "      <td>smoke</td>\n",
       "      <td>0.662352</td>\n",
       "      <td>0.652353</td>\n",
       "      <td>0.607337</td>\n",
       "      <td>0.588316</td>\n",
       "      <td>5.296645</td>\n",
       "      <td>0.616002</td>\n",
       "    </tr>\n",
       "    <tr>\n",
       "      <th>3</th>\n",
       "      <td>either</td>\n",
       "      <td>0.987768</td>\n",
       "      <td>0.893901</td>\n",
       "      <td>0.900813</td>\n",
       "      <td>0.889447</td>\n",
       "      <td>5.828321</td>\n",
       "      <td>0.894721</td>\n",
       "    </tr>\n",
       "    <tr>\n",
       "      <th>4</th>\n",
       "      <td>xray</td>\n",
       "      <td>0.722191</td>\n",
       "      <td>0.718976</td>\n",
       "      <td>0.721385</td>\n",
       "      <td>0.719777</td>\n",
       "      <td>4.681237</td>\n",
       "      <td>0.720046</td>\n",
       "    </tr>\n",
       "  </tbody>\n",
       "</table>\n",
       "</div>"
      ],
      "text/plain": [
       "  Target feature  Real_score  Fake1_score  Fake2_score  Fake3_score  \\\n",
       "0           asia    0.000000     0.000000     0.000000     0.000000   \n",
       "1            tub    0.913242     0.000000     0.016949     0.000000   \n",
       "2          smoke    0.662352     0.652353     0.607337     0.588316   \n",
       "3         either    0.987768     0.893901     0.900813     0.889447   \n",
       "4           xray    0.722191     0.718976     0.721385     0.719777   \n",
       "\n",
       "   Comp. time  Mean_fake_score  \n",
       "0    5.972298         0.000000  \n",
       "1    4.403128         0.005650  \n",
       "2    5.296645         0.616002  \n",
       "3    5.828321         0.894721  \n",
       "4    4.681237         0.720046  "
      ]
     },
     "execution_count": 9,
     "metadata": {},
     "output_type": "execute_result"
    }
   ],
   "source": [
    "df = pd.read_csv(\"../Evaluation/Dim_wise_pred/dwp_\"+dataset_name+\"_\"+model_name+exp_suffix+\".csv\")\n",
    "df.head()"
   ]
  },
  {
   "cell_type": "markdown",
   "id": "ae49455c",
   "metadata": {},
   "source": [
    "Make scatterplot of dimension-wise prediction results:"
   ]
  },
  {
   "cell_type": "code",
   "execution_count": 17,
   "id": "d5283e74",
   "metadata": {
    "scrolled": true
   },
   "outputs": [
    {
     "data": {
      "image/png": "[encoded data removed]",
      "text/plain": [
       "<Figure size 432x288 with 1 Axes>"
      ]
     },
     "metadata": {
      "needs_background": "light"
     },
     "output_type": "display_data"
    }
   ],
   "source": [
    "import matplotlib.pyplot as plt\n",
    "sns.set_theme(style=\"whitegrid\")\n",
    "\n",
    "%matplotlib inline\n",
    "fig, ax = plt.subplots()\n",
    "ax.scatter(df[\"Real_score\"], df[\"Mean_fake_score\"], c=\"darkgreen\", s=50, zorder=10)\n",
    "\n",
    "# plot original target feature y in violet:\n",
    "ax.scatter(df[df[\"Target feature\"]==target][\"Real_score\"], df[df[\"Target feature\"]==target][\"Mean_fake_score\"], c=\"mediumvioletred\", s=100, zorder=10)\n",
    "\n",
    "lims = [0,1]\n",
    "# plot both limits against eachother to get y=x line\n",
    "ax.plot(lims, lims, 'k-', alpha=0.75, zorder=0)\n",
    "ax.set_aspect('equal')\n",
    "ax.set_xlim(lims)\n",
    "ax.set_ylim(lims)\n",
    "ax.set_xlabel(\"Performance on real data\", fontsize=16)\n",
    "ax.set_ylabel(\"Performance on \\n Fake $\\\\bf{}$ data\".format(model_name.upper()), fontsize=16)\n",
    "ax.set_title(\"$\\\\bf{}$\".format(dataset_name.upper()), fontsize=16)\n",
    "# add feature labels to datapoints:\n",
    "for i, txt in enumerate(list(df[\"Target feature\"])):\n",
    "    ax.annotate(txt, (list(df[\"Real_score\"])[i], list(df[\"Mean_fake_score\"])[i]), xycoords='data', textcoords='offset points')\n",
    "# see link about offsetting annotation:\n",
    "# https://stackoverflow.com/questions/60786421/how-do-you-offset-text-in-a-scatter-plot-in-matplotlib\n",
    "fig.savefig(\"../Evaluation/Dim_wise_pred/dwp_\"+dataset_name+\"_\"+model_name+exp_suffix+\".png\", dpi=300)"
   ]
  },
  {
   "cell_type": "markdown",
   "id": "292db621",
   "metadata": {},
   "source": [
    "## Privacy checks\n",
    "Make sure the training dataset is not simply reproduced by the model"
   ]
  },
  {
   "cell_type": "code",
   "execution_count": 40,
   "id": "7f00cea6",
   "metadata": {
    "scrolled": true
   },
   "outputs": [
    {
     "name": "stdout",
     "output_type": "stream",
     "text": [
      "PROCESSING ../Fake_Datasets/Adult/final-AWS\\Adult_fake_vaem_3000epochs_1.csv\n",
      "PROCESSING ../Fake_Datasets/Adult/final-AWS\\Adult_fake_vaem_3000epochs_2.csv\n",
      "PROCESSING ../Fake_Datasets/Adult/final-AWS\\Adult_fake_vaem_3000epochs_3.csv\n",
      "Finished evaluating  Adult results for  3 experiment(s) and 3000  epochs of the VAEM model\n"
     ]
    }
   ],
   "source": [
    "privacy_results, raw_df = privacy_metrics(real_path, fake_paths, dataset_name)\n",
    "privacy_results.to_csv(\"../Evaluation/Privacy_checks/pr_ch_\"+dataset_name+\"_\"+model_name+exp_suffix+\".csv\", index=False)\n",
    "raw_df.to_csv(\"../Evaluation/Privacy_checks/pr_ch_\"+dataset_name+\"_\"+model_name+exp_suffix+\"_raw.csv\", index=False)\n",
    "privacy_results\n",
    "print(\"Finished evaluating \",dataset_name, \"results for \", num_exp, \"experiment(s) and\", num_epoch, \" epochs of the\", model_name.upper(), \"model\")"
   ]
  },
  {
   "cell_type": "code",
   "execution_count": 41,
   "id": "68def770",
   "metadata": {},
   "outputs": [
    {
     "data": {
      "text/html": [
       "<div>\n",
       "<style scoped>\n",
       "    .dataframe tbody tr th:only-of-type {\n",
       "        vertical-align: middle;\n",
       "    }\n",
       "\n",
       "    .dataframe tbody tr th {\n",
       "        vertical-align: top;\n",
       "    }\n",
       "\n",
       "    .dataframe thead th {\n",
       "        text-align: right;\n",
       "    }\n",
       "</style>\n",
       "<table border=\"1\" class=\"dataframe\">\n",
       "  <thead>\n",
       "    <tr style=\"text-align: right;\">\n",
       "      <th></th>\n",
       "      <th>Dataset</th>\n",
       "      <th>Type</th>\n",
       "      <th>DCR</th>\n",
       "      <th>NNDR</th>\n",
       "    </tr>\n",
       "  </thead>\n",
       "  <tbody>\n",
       "    <tr>\n",
       "      <th>0</th>\n",
       "      <td>Adult</td>\n",
       "      <td>F&amp;R</td>\n",
       "      <td>1.037518</td>\n",
       "      <td>0.964075</td>\n",
       "    </tr>\n",
       "    <tr>\n",
       "      <th>1</th>\n",
       "      <td>Adult</td>\n",
       "      <td>F&amp;R</td>\n",
       "      <td>1.156661</td>\n",
       "      <td>0.829714</td>\n",
       "    </tr>\n",
       "    <tr>\n",
       "      <th>2</th>\n",
       "      <td>Adult</td>\n",
       "      <td>F&amp;R</td>\n",
       "      <td>1.076577</td>\n",
       "      <td>0.924360</td>\n",
       "    </tr>\n",
       "    <tr>\n",
       "      <th>3</th>\n",
       "      <td>Adult</td>\n",
       "      <td>F&amp;R</td>\n",
       "      <td>1.995540</td>\n",
       "      <td>0.941594</td>\n",
       "    </tr>\n",
       "    <tr>\n",
       "      <th>4</th>\n",
       "      <td>Adult</td>\n",
       "      <td>F&amp;R</td>\n",
       "      <td>0.865860</td>\n",
       "      <td>0.601311</td>\n",
       "    </tr>\n",
       "  </tbody>\n",
       "</table>\n",
       "</div>"
      ],
      "text/plain": [
       "  Dataset Type       DCR      NNDR\n",
       "0   Adult  F&R  1.037518  0.964075\n",
       "1   Adult  F&R  1.156661  0.829714\n",
       "2   Adult  F&R  1.076577  0.924360\n",
       "3   Adult  F&R  1.995540  0.941594\n",
       "4   Adult  F&R  0.865860  0.601311"
      ]
     },
     "execution_count": 41,
     "metadata": {},
     "output_type": "execute_result"
    }
   ],
   "source": [
    "raw_df.head()"
   ]
  }
 ],
 "metadata": {
  "kernelspec": {
   "display_name": "Python 3 (ipykernel)",
   "language": "python",
   "name": "python3"
  },
  "language_info": {
   "codemirror_mode": {
    "name": "ipython",
    "version": 3
   },
   "file_extension": ".py",
   "mimetype": "text/x-python",
   "name": "python",
   "nbconvert_exporter": "python",
   "pygments_lexer": "ipython3",
   "version": "3.7.11"
  }
 },
 "nbformat": 4,
 "nbformat_minor": 5
}
