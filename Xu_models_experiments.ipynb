{
 "cells": [
  {
   "cell_type": "markdown",
   "id": "5685e767",
   "metadata": {},
   "source": [
    "### Imports\n",
    "Run this script in xu_venv"
   ]
  },
  {
   "cell_type": "code",
   "execution_count": 1,
   "id": "f0044113",
   "metadata": {},
   "outputs": [
    {
     "name": "stdout",
     "output_type": "stream",
     "text": [
      "Numpy version should be >= 1.20: 1.21.5\n",
      "Pandas version should be >=1.1.3: 1.3.5\n"
     ]
    }
   ],
   "source": [
    "import json\n",
    "from sklearn import model_selection\n",
    "import numpy as np\n",
    "print(\"Numpy version should be >= 1.20:\", np.__version__) \n",
    "import pandas as pd\n",
    "print(\"Pandas version should be >=1.1.3:\", pd.__version__)\n",
    "#from sdv.tabular import CTGAN, TVAE\n",
    "from ctgan.synthesizers.ctgan import CTGANSynthesizer\n",
    "from ctgan.synthesizers.tvae import TVAESynthesizer\n",
    "import time\n",
    "pd.options.mode.chained_assignment = None  # default='warn' # disable slicing warning"
   ]
  },
  {
   "cell_type": "code",
   "execution_count": 3,
   "id": "0ad6b504",
   "metadata": {},
   "outputs": [
    {
     "name": "stdout",
     "output_type": "stream",
     "text": [
      "Package                      Version    \n",
      "---------------------------- -----------\n",
      "absl-py                      1.0.0      \n",
      "argcomplete                  1.12.3     \n",
      "argon2-cffi                  20.1.0     \n",
      "astunparse                   1.6.3      \n",
      "async-generator              1.10       \n",
      "attrs                        21.4.0     \n",
      "backcall                     0.2.0      \n",
      "bleach                       4.1.0      \n",
      "brotlipy                     0.7.0      \n",
      "cached-property              1.5.2      \n",
      "cachetools                   4.2.4      \n",
      "certifi                      2021.10.8  \n",
      "cffi                         1.15.0     \n",
      "charset-normalizer           2.0.10     \n",
      "colorama                     0.4.4      \n",
      "copulas                      0.6.0      \n",
      "cryptography                 36.0.0     \n",
      "ctgan                        0.5.0      \n",
      "cycler                       0.11.0     \n",
      "cymem                        2.0.5      \n",
      "cytoolz                      0.9.0.1    \n",
      "debugpy                      1.5.1      \n",
      "decorator                    5.1.1      \n",
      "deepecho                     0.3.0.post1\n",
      "defusedxml                   0.7.1      \n",
      "dill                         0.2.9      \n",
      "dython                       0.6.4.post1\n",
      "entrypoints                  0.3        \n",
      "Faker                        9.9.1      \n",
      "flatbuffers                  2.0        \n",
      "fonttools                    4.29.0     \n",
      "gast                         0.4.0      \n",
      "google-auth                  2.3.3      \n",
      "google-auth-oauthlib         0.4.6      \n",
      "google-pasta                 0.2.0      \n",
      "graphviz                     0.19.1     \n",
      "grpcio                       1.43.0     \n",
      "h5py                         3.6.0      \n",
      "idna                         3.3        \n",
      "importlib-metadata           4.10.1     \n",
      "ipykernel                    6.4.1      \n",
      "ipython                      7.31.1     \n",
      "ipython-genutils             0.2.0      \n",
      "ipywidgets                   7.6.5      \n",
      "jedi                         0.18.0     \n",
      "Jinja2                       3.0.2      \n",
      "joblib                       1.1.0      \n",
      "jsonschema                   3.2.0      \n",
      "jupyter                      1.0.0      \n",
      "jupyter-client               7.1.2      \n",
      "jupyter-console              6.4.0      \n",
      "jupyter-core                 4.9.1      \n",
      "jupyterlab-pygments          0.1.2      \n",
      "jupyterlab-widgets           1.0.0      \n",
      "keras                        2.7.0      \n",
      "Keras-Preprocessing          1.1.2      \n",
      "kiwisolver                   1.3.1      \n",
      "libclang                     12.0.0     \n",
      "llvmlite                     0.38.0     \n",
      "Markdown                     3.3.6      \n",
      "MarkupSafe                   2.0.1      \n",
      "matplotlib                   3.5.1      \n",
      "matplotlib-inline            0.1.2      \n",
      "mistune                      0.8.4      \n",
      "mkl-fft                      1.0.6      \n",
      "mkl-random                   1.0.1      \n",
      "msgpack                      0.6.1      \n",
      "msgpack-numpy                0.4.3.2    \n",
      "murmurhash                   1.0.5      \n",
      "nbclient                     0.5.3      \n",
      "nbconvert                    6.1.0      \n",
      "nbformat                     5.1.3      \n",
      "nest-asyncio                 1.5.1      \n",
      "nltk                         3.3        \n",
      "notebook                     6.4.6      \n",
      "numba                        0.55.1     \n",
      "numpy                        1.21.5     \n",
      "oauthlib                     3.1.1      \n",
      "opt-einsum                   3.3.0      \n",
      "packaging                    21.3       \n",
      "pandas                       1.3.5      \n",
      "pandocfilters                1.5.0      \n",
      "parso                        0.8.3      \n",
      "pickleshare                  0.7.5      \n",
      "Pillow                       9.0.0      \n",
      "pip                          18.1       \n",
      "plac                         0.9.6      \n",
      "preshed                      2.0.1      \n",
      "prometheus-client            0.13.1     \n",
      "prompt-toolkit               3.0.20     \n",
      "protobuf                     3.19.3     \n",
      "psutil                       5.9.0      \n",
      "pyasn1                       0.4.8      \n",
      "pyasn1-modules               0.2.8      \n",
      "pycparser                    2.21       \n",
      "Pygments                     2.10.0     \n",
      "pyOpenSSL                    22.0.0     \n",
      "pyparsing                    3.0.4      \n",
      "pyreadline                   2.1        \n",
      "pyrsistent                   0.18.0     \n",
      "PySocks                      1.7.1      \n",
      "python-dateutil              2.8.2      \n",
      "pyts                         0.12.0     \n",
      "pytz                         2021.3     \n",
      "pywin32                      302        \n",
      "pywinpty                     0.5.7      \n",
      "PyYAML                       5.4.1      \n",
      "pyzmq                        22.3.0     \n",
      "qtconsole                    5.2.2      \n",
      "QtPy                         1.11.2     \n",
      "rdt                          0.6.2      \n",
      "regex                        2021.8.3   \n",
      "requests                     2.27.1     \n",
      "requests-oauthlib            1.3.0      \n",
      "rsa                          4.8        \n",
      "scikit-learn                 0.24.1     \n",
      "scikit-plot                  0.3.7      \n",
      "scipy                        1.7.3      \n",
      "sdmetrics                    0.4.1      \n",
      "sdv                          0.13.1     \n",
      "seaborn                      0.11.2     \n",
      "Send2Trash                   1.8.0      \n",
      "setuptools                   60.5.0     \n",
      "sip                          4.19.13    \n",
      "six                          1.16.0     \n",
      "spacy                        2.0.16     \n",
      "TBB                          0.2        \n",
      "tensorboard                  2.7.0      \n",
      "tensorboard-data-server      0.6.1      \n",
      "tensorboard-plugin-wit       1.8.1      \n",
      "tensorflow-estimator         2.7.0      \n",
      "tensorflow-io-gcs-filesystem 0.23.1     \n",
      "termcolor                    1.1.0      \n",
      "terminado                    0.9.4      \n",
      "testpath                     0.5.0      \n",
      "text-unidecode               1.3        \n",
      "thinc                        6.12.1     \n",
      "threadpoolctl                3.1.0      \n",
      "toolz                        0.11.2     \n",
      "torch                        1.9.1      \n",
      "torchvision                  0.11.3     \n",
      "tornado                      6.1        \n",
      "tqdm                         4.62.3     \n",
      "traitlets                    5.1.1      \n",
      "typing-extensions            4.0.1      \n",
      "ujson                        4.0.2      \n",
      "urllib3                      1.26.8     \n",
      "wcwidth                      0.2.5      \n",
      "webencodings                 0.5.1      \n",
      "Werkzeug                     2.0.2      \n",
      "wheel                        0.37.1     \n",
      "widgetsnbextension           3.5.1      \n",
      "win-inet-pton                1.1.0      \n",
      "wincertstore                 0.2        \n",
      "wrapt                        1.13.3     \n",
      "xgboost                      1.5.2      \n",
      "zipp                         3.7.0      \n"
     ]
    }
   ],
   "source": [
    "! pip list"
   ]
  },
  {
   "cell_type": "code",
   "execution_count": 2,
   "id": "53df3713",
   "metadata": {
    "scrolled": true
   },
   "outputs": [
    {
     "name": "stdout",
     "output_type": "stream",
     "text": [
      "False\n",
      "0\n"
     ]
    },
    {
     "ename": "AssertionError",
     "evalue": "Torch not compiled with CUDA enabled",
     "output_type": "error",
     "traceback": [
      "\u001b[1;31m---------------------------------------------------------------------------\u001b[0m",
      "\u001b[1;31mAssertionError\u001b[0m                            Traceback (most recent call last)",
      "\u001b[1;32m~\\AppData\\Local\\Temp/ipykernel_18448/1403829844.py\u001b[0m in \u001b[0;36m<module>\u001b[1;34m\u001b[0m\n\u001b[0;32m      2\u001b[0m \u001b[0mprint\u001b[0m\u001b[1;33m(\u001b[0m\u001b[0mtorch\u001b[0m\u001b[1;33m.\u001b[0m\u001b[0mcuda\u001b[0m\u001b[1;33m.\u001b[0m\u001b[0mis_available\u001b[0m\u001b[1;33m(\u001b[0m\u001b[1;33m)\u001b[0m\u001b[1;33m)\u001b[0m \u001b[1;31m# check if CUDA available\u001b[0m\u001b[1;33m\u001b[0m\u001b[1;33m\u001b[0m\u001b[0m\n\u001b[0;32m      3\u001b[0m \u001b[0mprint\u001b[0m\u001b[1;33m(\u001b[0m\u001b[0mtorch\u001b[0m\u001b[1;33m.\u001b[0m\u001b[0mcuda\u001b[0m\u001b[1;33m.\u001b[0m\u001b[0mdevice_count\u001b[0m\u001b[1;33m(\u001b[0m\u001b[1;33m)\u001b[0m\u001b[1;33m)\u001b[0m \u001b[1;31m# should be 1 GPU\u001b[0m\u001b[1;33m\u001b[0m\u001b[1;33m\u001b[0m\u001b[0m\n\u001b[1;32m----> 4\u001b[1;33m \u001b[0mprint\u001b[0m\u001b[1;33m(\u001b[0m\u001b[0mtorch\u001b[0m\u001b[1;33m.\u001b[0m\u001b[0mcuda\u001b[0m\u001b[1;33m.\u001b[0m\u001b[0mcurrent_device\u001b[0m\u001b[1;33m(\u001b[0m\u001b[1;33m)\u001b[0m\u001b[1;33m)\u001b[0m \u001b[1;31m# which device is used by PyTorch: should be 0\u001b[0m\u001b[1;33m\u001b[0m\u001b[1;33m\u001b[0m\u001b[0m\n\u001b[0m\u001b[0;32m      5\u001b[0m \u001b[0mprint\u001b[0m\u001b[1;33m(\u001b[0m\u001b[0mtorch\u001b[0m\u001b[1;33m.\u001b[0m\u001b[0mcuda\u001b[0m\u001b[1;33m.\u001b[0m\u001b[0mdevice\u001b[0m\u001b[1;33m(\u001b[0m\u001b[1;36m0\u001b[0m\u001b[1;33m)\u001b[0m\u001b[1;33m)\u001b[0m\u001b[1;33m\u001b[0m\u001b[1;33m\u001b[0m\u001b[0m\n\u001b[0;32m      6\u001b[0m \u001b[0mprint\u001b[0m\u001b[1;33m(\u001b[0m\u001b[0mtorch\u001b[0m\u001b[1;33m.\u001b[0m\u001b[0mcuda\u001b[0m\u001b[1;33m.\u001b[0m\u001b[0mget_device_name\u001b[0m\u001b[1;33m(\u001b[0m\u001b[1;36m0\u001b[0m\u001b[1;33m)\u001b[0m\u001b[1;33m)\u001b[0m\u001b[1;33m\u001b[0m\u001b[1;33m\u001b[0m\u001b[0m\n",
      "\u001b[1;32m~\\AppData\\Roaming\\Python\\Python37\\site-packages\\torch\\cuda\\__init__.py\u001b[0m in \u001b[0;36mcurrent_device\u001b[1;34m()\u001b[0m\n\u001b[0;32m    430\u001b[0m \u001b[1;32mdef\u001b[0m \u001b[0mcurrent_device\u001b[0m\u001b[1;33m(\u001b[0m\u001b[1;33m)\u001b[0m \u001b[1;33m->\u001b[0m \u001b[0mint\u001b[0m\u001b[1;33m:\u001b[0m\u001b[1;33m\u001b[0m\u001b[1;33m\u001b[0m\u001b[0m\n\u001b[0;32m    431\u001b[0m     \u001b[1;34mr\"\"\"Returns the index of a currently selected device.\"\"\"\u001b[0m\u001b[1;33m\u001b[0m\u001b[1;33m\u001b[0m\u001b[0m\n\u001b[1;32m--> 432\u001b[1;33m     \u001b[0m_lazy_init\u001b[0m\u001b[1;33m(\u001b[0m\u001b[1;33m)\u001b[0m\u001b[1;33m\u001b[0m\u001b[1;33m\u001b[0m\u001b[0m\n\u001b[0m\u001b[0;32m    433\u001b[0m     \u001b[1;32mreturn\u001b[0m \u001b[0mtorch\u001b[0m\u001b[1;33m.\u001b[0m\u001b[0m_C\u001b[0m\u001b[1;33m.\u001b[0m\u001b[0m_cuda_getDevice\u001b[0m\u001b[1;33m(\u001b[0m\u001b[1;33m)\u001b[0m\u001b[1;33m\u001b[0m\u001b[1;33m\u001b[0m\u001b[0m\n\u001b[0;32m    434\u001b[0m \u001b[1;33m\u001b[0m\u001b[0m\n",
      "\u001b[1;32m~\\AppData\\Roaming\\Python\\Python37\\site-packages\\torch\\cuda\\__init__.py\u001b[0m in \u001b[0;36m_lazy_init\u001b[1;34m()\u001b[0m\n\u001b[0;32m    164\u001b[0m                 \"multiprocessing, you must use the 'spawn' start method\")\n\u001b[0;32m    165\u001b[0m         \u001b[1;32mif\u001b[0m \u001b[1;32mnot\u001b[0m \u001b[0mhasattr\u001b[0m\u001b[1;33m(\u001b[0m\u001b[0mtorch\u001b[0m\u001b[1;33m.\u001b[0m\u001b[0m_C\u001b[0m\u001b[1;33m,\u001b[0m \u001b[1;34m'_cuda_getDeviceCount'\u001b[0m\u001b[1;33m)\u001b[0m\u001b[1;33m:\u001b[0m\u001b[1;33m\u001b[0m\u001b[1;33m\u001b[0m\u001b[0m\n\u001b[1;32m--> 166\u001b[1;33m             \u001b[1;32mraise\u001b[0m \u001b[0mAssertionError\u001b[0m\u001b[1;33m(\u001b[0m\u001b[1;34m\"Torch not compiled with CUDA enabled\"\u001b[0m\u001b[1;33m)\u001b[0m\u001b[1;33m\u001b[0m\u001b[1;33m\u001b[0m\u001b[0m\n\u001b[0m\u001b[0;32m    167\u001b[0m         \u001b[1;32mif\u001b[0m \u001b[0m_cudart\u001b[0m \u001b[1;32mis\u001b[0m \u001b[1;32mNone\u001b[0m\u001b[1;33m:\u001b[0m\u001b[1;33m\u001b[0m\u001b[1;33m\u001b[0m\u001b[0m\n\u001b[0;32m    168\u001b[0m             raise AssertionError(\n",
      "\u001b[1;31mAssertionError\u001b[0m: Torch not compiled with CUDA enabled"
     ]
    }
   ],
   "source": [
    "import torch\n",
    "print(torch.cuda.is_available()) # check if CUDA available\n",
    "print(torch.cuda.device_count()) # should be 1 GPU\n",
    "print(torch.cuda.current_device()) # which device is used by PyTorch: should be 0\n",
    "print(torch.cuda.device(0))\n",
    "print(torch.cuda.get_device_name(0))"
   ]
  },
  {
   "cell_type": "markdown",
   "id": "16e0037a",
   "metadata": {},
   "source": [
    "### Loading and selecting the data"
   ]
  },
  {
   "cell_type": "code",
   "execution_count": 6,
   "id": "2d0e176b",
   "metadata": {
    "scrolled": true
   },
   "outputs": [
    {
     "data": {
      "text/html": [
       "<div>\n",
       "<style scoped>\n",
       "    .dataframe tbody tr th:only-of-type {\n",
       "        vertical-align: middle;\n",
       "    }\n",
       "\n",
       "    .dataframe tbody tr th {\n",
       "        vertical-align: top;\n",
       "    }\n",
       "\n",
       "    .dataframe thead th {\n",
       "        text-align: right;\n",
       "    }\n",
       "</style>\n",
       "<table border=\"1\" class=\"dataframe\">\n",
       "  <thead>\n",
       "    <tr style=\"text-align: right;\">\n",
       "      <th></th>\n",
       "      <th>Erk</th>\n",
       "      <th>Mek</th>\n",
       "      <th>P38</th>\n",
       "      <th>PKA</th>\n",
       "      <th>PKC</th>\n",
       "      <th>Plcg</th>\n",
       "      <th>Jnk</th>\n",
       "      <th>Raf</th>\n",
       "      <th>PIP2</th>\n",
       "      <th>PIP3</th>\n",
       "      <th>Akt</th>\n",
       "    </tr>\n",
       "  </thead>\n",
       "  <tbody>\n",
       "    <tr>\n",
       "      <th>0</th>\n",
       "      <td>0</td>\n",
       "      <td>0</td>\n",
       "      <td>1</td>\n",
       "      <td>1</td>\n",
       "      <td>1</td>\n",
       "      <td>0</td>\n",
       "      <td>-16.244</td>\n",
       "      <td>-8.934</td>\n",
       "      <td>2.063</td>\n",
       "      <td>10.151</td>\n",
       "      <td>0</td>\n",
       "    </tr>\n",
       "    <tr>\n",
       "      <th>1</th>\n",
       "      <td>1</td>\n",
       "      <td>1</td>\n",
       "      <td>0</td>\n",
       "      <td>1</td>\n",
       "      <td>1</td>\n",
       "      <td>0</td>\n",
       "      <td>-2.276</td>\n",
       "      <td>-11.339</td>\n",
       "      <td>-10.911</td>\n",
       "      <td>-12.699</td>\n",
       "      <td>0</td>\n",
       "    </tr>\n",
       "    <tr>\n",
       "      <th>2</th>\n",
       "      <td>0</td>\n",
       "      <td>1</td>\n",
       "      <td>0</td>\n",
       "      <td>1</td>\n",
       "      <td>2</td>\n",
       "      <td>0</td>\n",
       "      <td>-2.313</td>\n",
       "      <td>-11.638</td>\n",
       "      <td>-13.709</td>\n",
       "      <td>0.554</td>\n",
       "      <td>0</td>\n",
       "    </tr>\n",
       "    <tr>\n",
       "      <th>3</th>\n",
       "      <td>1</td>\n",
       "      <td>0</td>\n",
       "      <td>0</td>\n",
       "      <td>1</td>\n",
       "      <td>0</td>\n",
       "      <td>0</td>\n",
       "      <td>-1.320</td>\n",
       "      <td>11.439</td>\n",
       "      <td>-12.647</td>\n",
       "      <td>12.881</td>\n",
       "      <td>0</td>\n",
       "    </tr>\n",
       "    <tr>\n",
       "      <th>4</th>\n",
       "      <td>1</td>\n",
       "      <td>0</td>\n",
       "      <td>0</td>\n",
       "      <td>1</td>\n",
       "      <td>1</td>\n",
       "      <td>0</td>\n",
       "      <td>-11.802</td>\n",
       "      <td>-12.972</td>\n",
       "      <td>-12.683</td>\n",
       "      <td>-13.319</td>\n",
       "      <td>1</td>\n",
       "    </tr>\n",
       "  </tbody>\n",
       "</table>\n",
       "</div>"
      ],
      "text/plain": [
       "   Erk  Mek  P38  PKA  PKC  Plcg     Jnk     Raf    PIP2    PIP3  Akt\n",
       "0    0    0    1    1    1     0 -16.244  -8.934   2.063  10.151    0\n",
       "1    1    1    0    1    1     0  -2.276 -11.339 -10.911 -12.699    0\n",
       "2    0    1    0    1    2     0  -2.313 -11.638 -13.709   0.554    0\n",
       "3    1    0    0    1    0     0  -1.320  11.439 -12.647  12.881    0\n",
       "4    1    0    0    1    1     0 -11.802 -12.972 -12.683 -13.319    1"
      ]
     },
     "execution_count": 6,
     "metadata": {},
     "output_type": "execute_result"
    }
   ],
   "source": [
    "num_exp =  3\n",
    "num_epoch =  300\n",
    "dataset_name = \"Sachs\" #  \"Asia\" # \"Census\" #  \"Adult\" #     \"Sachs2\" #  \"Cancer2\" #  \"Cancer\" #  \"Intrusion\" # \n",
    "fake_file_root = \"./Fake_Datasets\"\n",
    "\n",
    "if dataset_name in [\"Adult\", \"Census\"]: # \"Asia\"\n",
    "    real_file_root = \"./Real_Datasets/\"\n",
    "else:\n",
    "    real_file_root = \"./BN_Datasets/\"\n",
    "real_path = real_file_root + dataset_name+\"/\"+dataset_name\n",
    "#real_path = real_file_root +dataset_name\n",
    "\n",
    "with open(real_path+\"_meta.json\") as json_file:\n",
    "    meta = json.load(json_file)\n",
    "\n",
    "target = meta[\"target\"]\n",
    "categorical_cols = meta[\"categorical_cols\"]\n",
    "categorical_cols.append(target)\n",
    "mixed_cols = meta[\"mixed_cols\"]\n",
    "probl_type = {\"Classification\": target}\n",
    "log_cols = meta[\"log_cols\"]\n",
    "integer_cols = meta[\"numerical_cols\"]\n",
    "\n",
    "real_path = real_path +\".csv\"\n",
    "real_data = pd.read_csv(real_path)\n",
    "\n",
    "real_data.head()"
   ]
  },
  {
   "cell_type": "code",
   "execution_count": 7,
   "id": "9b944247",
   "metadata": {},
   "outputs": [
    {
     "data": {
      "text/html": [
       "<div>\n",
       "<style scoped>\n",
       "    .dataframe tbody tr th:only-of-type {\n",
       "        vertical-align: middle;\n",
       "    }\n",
       "\n",
       "    .dataframe tbody tr th {\n",
       "        vertical-align: top;\n",
       "    }\n",
       "\n",
       "    .dataframe thead th {\n",
       "        text-align: right;\n",
       "    }\n",
       "</style>\n",
       "<table border=\"1\" class=\"dataframe\">\n",
       "  <thead>\n",
       "    <tr style=\"text-align: right;\">\n",
       "      <th></th>\n",
       "      <th>Erk</th>\n",
       "      <th>Mek</th>\n",
       "      <th>P38</th>\n",
       "      <th>PKA</th>\n",
       "      <th>PKC</th>\n",
       "      <th>Plcg</th>\n",
       "      <th>Jnk</th>\n",
       "      <th>Raf</th>\n",
       "      <th>PIP2</th>\n",
       "      <th>PIP3</th>\n",
       "      <th>Akt</th>\n",
       "    </tr>\n",
       "  </thead>\n",
       "  <tbody>\n",
       "    <tr>\n",
       "      <th>49060</th>\n",
       "      <td>0</td>\n",
       "      <td>1</td>\n",
       "      <td>1</td>\n",
       "      <td>1</td>\n",
       "      <td>1</td>\n",
       "      <td>0</td>\n",
       "      <td>-0.942</td>\n",
       "      <td>9.645</td>\n",
       "      <td>-11.869</td>\n",
       "      <td>0.312</td>\n",
       "      <td>0</td>\n",
       "    </tr>\n",
       "    <tr>\n",
       "      <th>31295</th>\n",
       "      <td>2</td>\n",
       "      <td>2</td>\n",
       "      <td>2</td>\n",
       "      <td>0</td>\n",
       "      <td>0</td>\n",
       "      <td>0</td>\n",
       "      <td>12.327</td>\n",
       "      <td>15.282</td>\n",
       "      <td>-11.275</td>\n",
       "      <td>-0.311</td>\n",
       "      <td>1</td>\n",
       "    </tr>\n",
       "    <tr>\n",
       "      <th>12761</th>\n",
       "      <td>1</td>\n",
       "      <td>0</td>\n",
       "      <td>0</td>\n",
       "      <td>2</td>\n",
       "      <td>0</td>\n",
       "      <td>0</td>\n",
       "      <td>-12.131</td>\n",
       "      <td>-15.480</td>\n",
       "      <td>-13.085</td>\n",
       "      <td>1.076</td>\n",
       "      <td>0</td>\n",
       "    </tr>\n",
       "    <tr>\n",
       "      <th>33886</th>\n",
       "      <td>2</td>\n",
       "      <td>0</td>\n",
       "      <td>0</td>\n",
       "      <td>1</td>\n",
       "      <td>0</td>\n",
       "      <td>0</td>\n",
       "      <td>-13.053</td>\n",
       "      <td>14.824</td>\n",
       "      <td>-11.997</td>\n",
       "      <td>-11.410</td>\n",
       "      <td>1</td>\n",
       "    </tr>\n",
       "    <tr>\n",
       "      <th>1777</th>\n",
       "      <td>1</td>\n",
       "      <td>1</td>\n",
       "      <td>0</td>\n",
       "      <td>1</td>\n",
       "      <td>1</td>\n",
       "      <td>0</td>\n",
       "      <td>-8.079</td>\n",
       "      <td>-9.043</td>\n",
       "      <td>-13.146</td>\n",
       "      <td>-0.848</td>\n",
       "      <td>0</td>\n",
       "    </tr>\n",
       "  </tbody>\n",
       "</table>\n",
       "</div>"
      ],
      "text/plain": [
       "       Erk  Mek  P38  PKA  PKC  Plcg     Jnk     Raf    PIP2    PIP3  Akt\n",
       "49060    0    1    1    1    1     0  -0.942   9.645 -11.869   0.312    0\n",
       "31295    2    2    2    0    0     0  12.327  15.282 -11.275  -0.311    1\n",
       "12761    1    0    0    2    0     0 -12.131 -15.480 -13.085   1.076    0\n",
       "33886    2    0    0    1    0     0 -13.053  14.824 -11.997 -11.410    1\n",
       "1777     1    1    0    1    1     0  -8.079  -9.043 -13.146  -0.848    0"
      ]
     },
     "execution_count": 7,
     "metadata": {},
     "output_type": "execute_result"
    }
   ],
   "source": [
    "# Perform stratified train/test split with same random seed as in other experiments:\n",
    "test_ratio=0.2\n",
    "y_real = real_data[target]\n",
    "X_real = real_data.drop(columns=[target])\n",
    "X_train_real, _, y_train_real, _ = model_selection.train_test_split(X_real ,y_real, test_size=test_ratio, stratify=y_real,random_state=42)\n",
    "X_train_real[target]= y_train_real\n",
    "X_train_real.head()"
   ]
  },
  {
   "cell_type": "code",
   "execution_count": 5,
   "id": "246537b1",
   "metadata": {},
   "outputs": [
    {
     "data": {
      "text/plain": [
       "(40000, 8)"
      ]
     },
     "execution_count": 5,
     "metadata": {},
     "output_type": "execute_result"
    }
   ],
   "source": [
    "X_train_real.shape"
   ]
  },
  {
   "cell_type": "markdown",
   "id": "3d97e913",
   "metadata": {},
   "source": [
    "# CTGAN Model"
   ]
  },
  {
   "cell_type": "code",
   "execution_count": 8,
   "id": "0ef69816",
   "metadata": {
    "scrolled": true
   },
   "outputs": [
    {
     "name": "stdout",
     "output_type": "stream",
     "text": [
      "Running  3 experiment(s) for  Sachs with  300  epochs\n",
      "PERFORMING EXPERIMENT 1\n"
     ]
    },
    {
     "name": "stderr",
     "output_type": "stream",
     "text": [
      "C:\\Users\\jahutter\\AppData\\Roaming\\Python\\Python37\\site-packages\\sklearn\\mixture\\_base.py:269: ConvergenceWarning: Initialization 1 did not converge. Try different init parameters, or increase max_iter, tol or check for degenerate data.\n",
      "  % (init + 1), ConvergenceWarning)\n",
      "C:\\Users\\jahutter\\AppData\\Roaming\\Python\\Python37\\site-packages\\sklearn\\mixture\\_base.py:269: ConvergenceWarning: Initialization 1 did not converge. Try different init parameters, or increase max_iter, tol or check for degenerate data.\n",
      "  % (init + 1), ConvergenceWarning)\n",
      "C:\\Users\\jahutter\\AppData\\Roaming\\Python\\Python37\\site-packages\\sklearn\\mixture\\_base.py:269: ConvergenceWarning: Initialization 1 did not converge. Try different init parameters, or increase max_iter, tol or check for degenerate data.\n",
      "  % (init + 1), ConvergenceWarning)\n",
      "C:\\Users\\jahutter\\AppData\\Roaming\\Python\\Python37\\site-packages\\sklearn\\mixture\\_base.py:269: ConvergenceWarning: Initialization 1 did not converge. Try different init parameters, or increase max_iter, tol or check for degenerate data.\n",
      "  % (init + 1), ConvergenceWarning)\n"
     ]
    },
    {
     "name": "stdout",
     "output_type": "stream",
     "text": [
      "FINISHED TRAINING AFTER 1883.6685988903046 seconds\n",
      "PERFORMING EXPERIMENT 2\n"
     ]
    },
    {
     "name": "stderr",
     "output_type": "stream",
     "text": [
      "C:\\Users\\jahutter\\AppData\\Roaming\\Python\\Python37\\site-packages\\sklearn\\mixture\\_base.py:269: ConvergenceWarning: Initialization 1 did not converge. Try different init parameters, or increase max_iter, tol or check for degenerate data.\n",
      "  % (init + 1), ConvergenceWarning)\n",
      "C:\\Users\\jahutter\\AppData\\Roaming\\Python\\Python37\\site-packages\\sklearn\\mixture\\_base.py:269: ConvergenceWarning: Initialization 1 did not converge. Try different init parameters, or increase max_iter, tol or check for degenerate data.\n",
      "  % (init + 1), ConvergenceWarning)\n",
      "C:\\Users\\jahutter\\AppData\\Roaming\\Python\\Python37\\site-packages\\sklearn\\mixture\\_base.py:269: ConvergenceWarning: Initialization 1 did not converge. Try different init parameters, or increase max_iter, tol or check for degenerate data.\n",
      "  % (init + 1), ConvergenceWarning)\n",
      "C:\\Users\\jahutter\\AppData\\Roaming\\Python\\Python37\\site-packages\\sklearn\\mixture\\_base.py:269: ConvergenceWarning: Initialization 1 did not converge. Try different init parameters, or increase max_iter, tol or check for degenerate data.\n",
      "  % (init + 1), ConvergenceWarning)\n"
     ]
    },
    {
     "name": "stdout",
     "output_type": "stream",
     "text": [
      "FINISHED TRAINING AFTER 1910.919795513153 seconds\n",
      "PERFORMING EXPERIMENT 3\n"
     ]
    },
    {
     "name": "stderr",
     "output_type": "stream",
     "text": [
      "C:\\Users\\jahutter\\AppData\\Roaming\\Python\\Python37\\site-packages\\sklearn\\mixture\\_base.py:269: ConvergenceWarning: Initialization 1 did not converge. Try different init parameters, or increase max_iter, tol or check for degenerate data.\n",
      "  % (init + 1), ConvergenceWarning)\n",
      "C:\\Users\\jahutter\\AppData\\Roaming\\Python\\Python37\\site-packages\\sklearn\\mixture\\_base.py:269: ConvergenceWarning: Initialization 1 did not converge. Try different init parameters, or increase max_iter, tol or check for degenerate data.\n",
      "  % (init + 1), ConvergenceWarning)\n",
      "C:\\Users\\jahutter\\AppData\\Roaming\\Python\\Python37\\site-packages\\sklearn\\mixture\\_base.py:269: ConvergenceWarning: Initialization 1 did not converge. Try different init parameters, or increase max_iter, tol or check for degenerate data.\n",
      "  % (init + 1), ConvergenceWarning)\n",
      "C:\\Users\\jahutter\\AppData\\Roaming\\Python\\Python37\\site-packages\\sklearn\\mixture\\_base.py:269: ConvergenceWarning: Initialization 1 did not converge. Try different init parameters, or increase max_iter, tol or check for degenerate data.\n",
      "  % (init + 1), ConvergenceWarning)\n"
     ]
    },
    {
     "name": "stdout",
     "output_type": "stream",
     "text": [
      "FINISHED TRAINING AFTER 1859.3617787361145 seconds\n"
     ]
    }
   ],
   "source": [
    "times = []\n",
    "print(\"Running \", num_exp, \"experiment(s) for \", dataset_name, \"with \", num_epoch, \" epochs\")\n",
    "for i in list(range(1,num_exp+1)):\n",
    "    print(\"PERFORMING EXPERIMENT\", i)\n",
    "    start_time = time.time()\n",
    "    ctgan = CTGANSynthesizer(epochs=num_epoch)\n",
    "    ctgan.fit(X_train_real, categorical_cols)\n",
    "    syn = ctgan.sample(X_train_real.shape[0])\n",
    "    syn.to_csv(fake_file_root+\"/\"+dataset_name+\"/\"+ dataset_name+\"_fake_ctgan_\"+str(num_epoch)+\"epochs_\"+str(i)+\".csv\", index= False)\n",
    "    end_time = time.time()\n",
    "    print(\"FINISHED TRAINING AFTER\", end_time-start_time, \"seconds\")\n",
    "    times.append(end_time-start_time)\n",
    "# save training times to csv:\n",
    "pd.DataFrame(times, columns=[\"Comp.times\"]).to_csv(\"./Evaluation/Comp_time/times_\"+dataset_name+\"_ctgan_\"+str(num_epoch)+\"epochs.csv\", index= False)\n",
    "# ConvergenceWarning is normal & happens randomly so can ignore"
   ]
  },
  {
   "cell_type": "markdown",
   "id": "6feee717",
   "metadata": {},
   "source": [
    "# TVAE Model"
   ]
  },
  {
   "cell_type": "code",
   "execution_count": 9,
   "id": "40fdcd87",
   "metadata": {},
   "outputs": [
    {
     "name": "stdout",
     "output_type": "stream",
     "text": [
      "Running  3 experiment(s) for  Sachs with  300  epochs\n",
      "PERFORMING EXPERIMENT 1\n"
     ]
    },
    {
     "name": "stderr",
     "output_type": "stream",
     "text": [
      "C:\\Users\\jahutter\\AppData\\Roaming\\Python\\Python37\\site-packages\\sklearn\\mixture\\_base.py:269: ConvergenceWarning: Initialization 1 did not converge. Try different init parameters, or increase max_iter, tol or check for degenerate data.\n",
      "  % (init + 1), ConvergenceWarning)\n",
      "C:\\Users\\jahutter\\AppData\\Roaming\\Python\\Python37\\site-packages\\sklearn\\mixture\\_base.py:269: ConvergenceWarning: Initialization 1 did not converge. Try different init parameters, or increase max_iter, tol or check for degenerate data.\n",
      "  % (init + 1), ConvergenceWarning)\n",
      "C:\\Users\\jahutter\\AppData\\Roaming\\Python\\Python37\\site-packages\\sklearn\\mixture\\_base.py:269: ConvergenceWarning: Initialization 1 did not converge. Try different init parameters, or increase max_iter, tol or check for degenerate data.\n",
      "  % (init + 1), ConvergenceWarning)\n",
      "C:\\Users\\jahutter\\AppData\\Roaming\\Python\\Python37\\site-packages\\sklearn\\mixture\\_base.py:269: ConvergenceWarning: Initialization 1 did not converge. Try different init parameters, or increase max_iter, tol or check for degenerate data.\n",
      "  % (init + 1), ConvergenceWarning)\n"
     ]
    },
    {
     "name": "stdout",
     "output_type": "stream",
     "text": [
      "FINISHED TRAINING AFTER 762.3770334720612 seconds\n",
      "PERFORMING EXPERIMENT 2\n"
     ]
    },
    {
     "name": "stderr",
     "output_type": "stream",
     "text": [
      "C:\\Users\\jahutter\\AppData\\Roaming\\Python\\Python37\\site-packages\\sklearn\\mixture\\_base.py:269: ConvergenceWarning: Initialization 1 did not converge. Try different init parameters, or increase max_iter, tol or check for degenerate data.\n",
      "  % (init + 1), ConvergenceWarning)\n",
      "C:\\Users\\jahutter\\AppData\\Roaming\\Python\\Python37\\site-packages\\sklearn\\mixture\\_base.py:269: ConvergenceWarning: Initialization 1 did not converge. Try different init parameters, or increase max_iter, tol or check for degenerate data.\n",
      "  % (init + 1), ConvergenceWarning)\n",
      "C:\\Users\\jahutter\\AppData\\Roaming\\Python\\Python37\\site-packages\\sklearn\\mixture\\_base.py:269: ConvergenceWarning: Initialization 1 did not converge. Try different init parameters, or increase max_iter, tol or check for degenerate data.\n",
      "  % (init + 1), ConvergenceWarning)\n",
      "C:\\Users\\jahutter\\AppData\\Roaming\\Python\\Python37\\site-packages\\sklearn\\mixture\\_base.py:269: ConvergenceWarning: Initialization 1 did not converge. Try different init parameters, or increase max_iter, tol or check for degenerate data.\n",
      "  % (init + 1), ConvergenceWarning)\n"
     ]
    },
    {
     "name": "stdout",
     "output_type": "stream",
     "text": [
      "FINISHED TRAINING AFTER 860.5662453174591 seconds\n",
      "PERFORMING EXPERIMENT 3\n"
     ]
    },
    {
     "name": "stderr",
     "output_type": "stream",
     "text": [
      "C:\\Users\\jahutter\\AppData\\Roaming\\Python\\Python37\\site-packages\\sklearn\\mixture\\_base.py:269: ConvergenceWarning: Initialization 1 did not converge. Try different init parameters, or increase max_iter, tol or check for degenerate data.\n",
      "  % (init + 1), ConvergenceWarning)\n",
      "C:\\Users\\jahutter\\AppData\\Roaming\\Python\\Python37\\site-packages\\sklearn\\mixture\\_base.py:269: ConvergenceWarning: Initialization 1 did not converge. Try different init parameters, or increase max_iter, tol or check for degenerate data.\n",
      "  % (init + 1), ConvergenceWarning)\n",
      "C:\\Users\\jahutter\\AppData\\Roaming\\Python\\Python37\\site-packages\\sklearn\\mixture\\_base.py:269: ConvergenceWarning: Initialization 1 did not converge. Try different init parameters, or increase max_iter, tol or check for degenerate data.\n",
      "  % (init + 1), ConvergenceWarning)\n",
      "C:\\Users\\jahutter\\AppData\\Roaming\\Python\\Python37\\site-packages\\sklearn\\mixture\\_base.py:269: ConvergenceWarning: Initialization 1 did not converge. Try different init parameters, or increase max_iter, tol or check for degenerate data.\n",
      "  % (init + 1), ConvergenceWarning)\n"
     ]
    },
    {
     "name": "stdout",
     "output_type": "stream",
     "text": [
      "FINISHED TRAINING AFTER 858.245632648468 seconds\n",
      "Running  3 experiment(s) for  Sachs with  300  epochs\n"
     ]
    }
   ],
   "source": [
    "times = []\n",
    "print(\"Running \", num_exp, \"experiment(s) for \", dataset_name, \"with \", num_epoch, \" epochs\")\n",
    "for i in list(range(1,num_exp+1)):\n",
    "    print(\"PERFORMING EXPERIMENT\", i)\n",
    "    start_time = time.time()\n",
    "    ctgan = TVAESynthesizer(epochs=num_epoch)\n",
    "    ctgan.fit(X_train_real, categorical_cols)\n",
    "    syn = ctgan.sample(X_train_real.shape[0])\n",
    "    syn.to_csv(fake_file_root+\"/\"+dataset_name+\"/\"+ dataset_name+\"_fake_tvae_\"+str(num_epoch)+\"epochs_\"+str(i)+\".csv\", index= False)\n",
    "    end_time = time.time()\n",
    "    print(\"FINISHED TRAINING AFTER\", end_time-start_time, \"seconds\")\n",
    "    times.append(end_time-start_time)\n",
    "# save training times to csv:\n",
    "pd.DataFrame(times, columns=[\"Comp.times\"]).to_csv(\"./Evaluation/Comp_time/times_\"+dataset_name+\"_tvae_\"+str(num_epoch)+\"epochs.csv\", index= False)\n",
    "print(\"Running \", num_exp, \"experiment(s) for \", dataset_name, \"with \", num_epoch, \" epochs\")"
   ]
  }
 ],
 "metadata": {
  "kernelspec": {
   "display_name": "Python 3 (ipykernel)",
   "language": "python",
   "name": "python3"
  },
  "language_info": {
   "codemirror_mode": {
    "name": "ipython",
    "version": 3
   },
   "file_extension": ".py",
   "mimetype": "text/x-python",
   "name": "python",
   "nbconvert_exporter": "python",
   "pygments_lexer": "ipython3",
   "version": "3.7.11"
  }
 },
 "nbformat": 4,
 "nbformat_minor": 5
}
